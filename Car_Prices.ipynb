{
 "cells": [
  {
   "cell_type": "code",
   "execution_count": 1,
   "id": "daa1f3d4",
   "metadata": {},
   "outputs": [],
   "source": [
    "import os\n",
    "import tarfile\n",
    "import urllib\n",
    "import pandas as pd\n",
    "import numpy as np\n",
    "import matplotlib.pyplot as plt\n",
    "from sklearn.model_selection import train_test_split\n",
    "import seaborn as sns"
   ]
  },
  {
   "cell_type": "code",
   "execution_count": 2,
   "id": "ed8cf223",
   "metadata": {},
   "outputs": [],
   "source": [
    "#https://www.kaggle.com/datasets/chancev/carsforsale\n",
    "def load_car_data():\n",
    "    csv_path = os.path.join('Datasets', 'cars_raw.csv')\n",
    "    return pd.read_csv(csv_path)"
   ]
  },
  {
   "cell_type": "code",
   "execution_count": 3,
   "id": "782514fb",
   "metadata": {
    "scrolled": true
   },
   "outputs": [],
   "source": [
    "# Clean Make column\n",
    "def clean_make(df):\n",
    "    df['Make'] = df['Make'].astype('category')\n",
    "\n",
    "# Clean certified column    \n",
    "def clean_certified(df):\n",
    "    df.loc[data['Used/New'].str.contains('Certified'), 'Used/New'] = 'Certified'\n",
    "    df.astype('category')\n",
    "    \n",
    "# Clean Price column\n",
    "def clean_price(df):   \n",
    "    df.drop(df.index[df['Price'] == 'Not Priced'], inplace = True)\n",
    "    df['Price'] = df['Price'].str.replace(r'\\D','', regex=True).astype('int32')\n",
    "    \n",
    "# Clean State column [Not outputting the correct cleaned dataframe for some reason?]\n",
    "def clean_state(df):\n",
    "    invalid_state = ['Bldg','US-169','SE','Glens','US-12','Suite','AZ-101']\n",
    "    df = df[~df['State'].isin(invalid_state)]\n",
    "    df.loc[df['State'] == 'Michigan', 'State'] = 'MI'\n",
    "\n",
    "# Clean zipcode column\n",
    "# This actually isn't correct, writes in missing for every digit instead of single time\n",
    "def clean_zipcode(df):\n",
    "    df['Zipcode'] = df['Zipcode'].str.replace(r'\\D','Missing', regex=True).astype('str')\n",
    "    \n",
    "# clean drivetrain column\n",
    "def clean_drivetrain(df):\n",
    "    drivetrain_dict = {'All-wheel Drive':'AWD', 'Front-wheel Drive':'FWD', 'Front Wheel Drive':'FWD',\n",
    "                  'Four-wheel Drive':'4WD', 'Rear-wheel Drive':'RWD'}\n",
    "    df['Drivetrain'] = df['Drivetrain'].replace(drivetrain_dict)\n",
    "    df['Drivetrain'] = df['Drivetrain'].str.replace('[^a-zA-Z0-9]', '?', regex=True).str.strip()\n",
    "    df.drop(df[df['Drivetrain']=='?'].index, inplace=True)\n",
    "\n",
    "# clean fuel type   \n",
    "def clean_fuel_type(df):\n",
    "    df['FuelType'] = df['FuelType'].apply(lambda x: 'Not Gasoline' if 'Gasoline' not in x else 'Gasoline')\n",
    "    \n",
    "# clean transmission   \n",
    "def clean_fuel_type(df):\n",
    "    df['Transmission'] = df['Transmission'].apply(lambda x: 'Automatic' if 'utomatic' in x else\n",
    "                    ('Manual' if 'anual' in x else 'Other'))\n",
    "    \n",
    "# drop useless columns\n",
    "def drop_useless_columns(df):\n",
    "    drop_list = ['MaxMPG','SellerReviews','ComfortRating','ExteriorStylingRating','PerformanceRating','SellerRating',\n",
    "                 'SellerName','MinMPG','InteriorDesignRating', \n",
    "                 'StreetName', 'Engine', 'VIN', 'Stock#','State','Zipcode']\n",
    "    df.drop(drop_list, axis=1, inplace=True)"
   ]
  },
  {
   "cell_type": "code",
   "execution_count": 4,
   "id": "1ffac13a",
   "metadata": {},
   "outputs": [],
   "source": [
    "def clean_data(data, label): \n",
    "    clean_make(data)\n",
    "    clean_certified(data)\n",
    "    #clean_price(label)\n",
    "    #clean_state(data)\n",
    "    #clean_zipcode(data)\n",
    "    #clean_drivetrain(data)    \n",
    "    clean_fuel_type(data)"
   ]
  },
  {
   "cell_type": "code",
   "execution_count": 5,
   "id": "5c63dcb3",
   "metadata": {},
   "outputs": [],
   "source": [
    "data = load_car_data()\n",
    "\n",
    "drop_useless_columns(data)\n",
    "# cleaning price drops rows so I need to do it before splitting data\n",
    "clean_price(data)\n",
    "# drivetrain drops rows so I need to do it before splitting data\n",
    "clean_drivetrain(data)"
   ]
  },
  {
   "cell_type": "code",
   "execution_count": 6,
   "id": "2288da98",
   "metadata": {},
   "outputs": [],
   "source": [
    "train_set, test_set = train_test_split(data, test_size = 0.2, random_state = 1)"
   ]
  },
  {
   "cell_type": "code",
   "execution_count": 7,
   "id": "1f7e0446",
   "metadata": {},
   "outputs": [],
   "source": [
    "# Revert to a clean training set\n",
    "cars = train_set.drop('Price', axis=1)\n",
    "cars_labels = train_set['Price'].copy()"
   ]
  },
  {
   "cell_type": "code",
   "execution_count": 8,
   "id": "530bf233",
   "metadata": {
    "scrolled": true
   },
   "outputs": [
    {
     "data": {
      "text/plain": [
       "SimpleImputer(strategy='median')"
      ]
     },
     "execution_count": 8,
     "metadata": {},
     "output_type": "execute_result"
    }
   ],
   "source": [
    "# Clean missing data\n",
    "from sklearn.impute import SimpleImputer\n",
    "\n",
    "imputer = SimpleImputer(strategy='median')\n",
    "\n",
    "# Median can only be computed on numericals so creaty a copy with only numerical fields\n",
    "drop_list = ['Make','Model','Used/New','SellerType','DealType','ExteriorColor',\n",
    "             'InteriorColor','Drivetrain','FuelType','Transmission']\n",
    "cars_num = cars.drop(drop_list, axis=1)\n",
    "\n",
    "# This computer\n",
    "imputer.fit(cars_num)"
   ]
  },
  {
   "cell_type": "code",
   "execution_count": 9,
   "id": "6b35cf4a",
   "metadata": {
    "scrolled": true
   },
   "outputs": [],
   "source": [
    "from sklearn.pipeline import Pipeline\n",
    "from sklearn.preprocessing import StandardScaler\n",
    "\n",
    "num_pipeline = Pipeline([\n",
    "    ('cleaner', clean_data(cars, cars_labels)),\n",
    "    ('imputer', SimpleImputer(strategy='median')),\n",
    "    ('std_scaler', StandardScaler()),\n",
    "])"
   ]
  },
  {
   "cell_type": "code",
   "execution_count": 10,
   "id": "353a26cd",
   "metadata": {},
   "outputs": [],
   "source": [
    "#OneHotEncoder will make a column for each attribute and set to 1(hot) or 0(cold)\n",
    "from sklearn.preprocessing import OneHotEncoder\n",
    "cat_encoder = OneHotEncoder()\n",
    "\n",
    "cars_cat = cars[['Make','SellerType','DealType','FuelType','Used/New','Transmission']]\n",
    "cars_cat_1hot = cat_encoder.fit_transform(cars_cat)\n",
    "# As you can see it returns as dtype 'sparse matrix' which can be converted to\n",
    "# a NumPy array with toarray()"
   ]
  },
  {
   "cell_type": "code",
   "execution_count": 11,
   "id": "ea26971c",
   "metadata": {},
   "outputs": [],
   "source": [
    "from sklearn.compose import ColumnTransformer\n",
    "\n",
    "num_attribs = list(cars_num)\n",
    "cat_attribs = list(cars_cat)\n",
    "\n",
    "full_pipeline = ColumnTransformer([\n",
    "    ('num', num_pipeline, num_attribs),\n",
    "    ('cat', OneHotEncoder(), cat_attribs),\n",
    "])\n",
    "\n",
    "data_prepared = full_pipeline.fit_transform(cars)"
   ]
  },
  {
   "cell_type": "code",
   "execution_count": 12,
   "id": "2a1f0603",
   "metadata": {},
   "outputs": [
    {
     "data": {
      "text/plain": [
       "LinearRegression()"
      ]
     },
     "execution_count": 12,
     "metadata": {},
     "output_type": "execute_result"
    }
   ],
   "source": [
    "# Now train the model\n",
    "from sklearn.linear_model import LinearRegression\n",
    "\n",
    "lin_reg = LinearRegression()\n",
    "lin_reg.fit(data_prepared, cars_labels)"
   ]
  },
  {
   "cell_type": "code",
   "execution_count": 13,
   "id": "8283d02e",
   "metadata": {},
   "outputs": [
    {
     "name": "stdout",
     "output_type": "stream",
     "text": [
      "Predictions: [33643.91418256 41716.86312444 69776.6722597  44712.21466309\n",
      " 47275.18247045]\n",
      "Labels: [45241, 24333, 39900, 40995, 41985]\n"
     ]
    }
   ],
   "source": [
    "# Testing the model on some data\n",
    "some_data = cars.iloc[:5]\n",
    "some_labels = cars_labels.iloc[:5]\n",
    "some_data_prepared = full_pipeline.transform(some_data)\n",
    "print('Predictions:', lin_reg.predict(some_data_prepared))\n",
    "print('Labels:', list(some_labels))"
   ]
  },
  {
   "cell_type": "code",
   "execution_count": 14,
   "id": "72986242",
   "metadata": {},
   "outputs": [
    {
     "data": {
      "text/plain": [
       "174178818.88629764"
      ]
     },
     "execution_count": 14,
     "metadata": {},
     "output_type": "execute_result"
    }
   ],
   "source": [
    "# Measure the models RMSE (not very good, underfit model)\n",
    "from sklearn.metrics import mean_squared_error\n",
    "car_predictions = lin_reg.predict(data_prepared)\n",
    "lin_mse = mean_squared_error(cars_labels, car_predictions)\n",
    "lin_rmse = np.sqrt(lin_mse)\n",
    "lin_mse"
   ]
  },
  {
   "cell_type": "code",
   "execution_count": 15,
   "id": "edf793a0",
   "metadata": {},
   "outputs": [
    {
     "data": {
      "text/plain": [
       "RandomForestRegressor()"
      ]
     },
     "execution_count": 15,
     "metadata": {},
     "output_type": "execute_result"
    }
   ],
   "source": [
    "# Try using a Random Forest Regresso\n",
    "from sklearn.ensemble import RandomForestRegressor\n",
    "forest_reg = RandomForestRegressor()\n",
    "forest_reg.fit(data_prepared, cars_labels)"
   ]
  },
  {
   "cell_type": "code",
   "execution_count": 16,
   "id": "63bd92b6",
   "metadata": {},
   "outputs": [],
   "source": [
    "def display_scores(scores):\n",
    "    print(f'Scores: {scores}')\n",
    "    print(f'Mean: {scores.mean()}')\n",
    "    print(f'Standard Deviation: {scores.std()}')"
   ]
  },
  {
   "cell_type": "code",
   "execution_count": 17,
   "id": "e96cfdab",
   "metadata": {},
   "outputs": [
    {
     "name": "stdout",
     "output_type": "stream",
     "text": [
      "Scores: [ 5764.25987209  7919.01459013  7305.79077096  7740.97440777\n",
      " 10364.17302222 12489.26116129  7839.03116971  6403.23090773\n",
      "  6729.17141257  9567.21016115]\n",
      "Mean: 8212.211747562473\n",
      "Standard Deviation: 1936.3184229012538\n"
     ]
    }
   ],
   "source": [
    "from sklearn.model_selection import cross_val_score\n",
    "forest_scores = cross_val_score(forest_reg, data_prepared, cars_labels,\n",
    "                            scoring='neg_mean_squared_error', cv=10)\n",
    "forest_rmse_scores= np.sqrt(-forest_scores)\n",
    "display_scores(forest_rmse_scores)"
   ]
  },
  {
   "cell_type": "code",
   "execution_count": 18,
   "id": "22660f4b",
   "metadata": {},
   "outputs": [
    {
     "data": {
      "image/png": "[encoded data removed]",
      "text/plain": [
       "<Figure size 1440x1080 with 9 Axes>"
      ]
     },
     "metadata": {
      "needs_background": "light"
     },
     "output_type": "display_data"
    }
   ],
   "source": [
    "data.hist(bins=50, figsize=(20,15))\n",
    "plt.show()"
   ]
  },
  {
   "cell_type": "code",
   "execution_count": 19,
   "id": "7bf8a000",
   "metadata": {},
   "outputs": [
    {
     "data": {
      "text/plain": [
       "<AxesSubplot:>"
      ]
     },
     "execution_count": 19,
     "metadata": {},
     "output_type": "execute_result"
    },
    {
     "data": {
      "image/png": "[encoded data removed]",
      "text/plain": [
       "<Figure size 432x288 with 2 Axes>"
      ]
     },
     "metadata": {
      "needs_background": "light"
     },
     "output_type": "display_data"
    }
   ],
   "source": [
    "#calculate correlation between attributes\n",
    "import seaborn as sns\n",
    "corr_matrix = data.corr()\n",
    "sns.heatmap(corr_matrix)"
   ]
  },
  {
   "cell_type": "code",
   "execution_count": 20,
   "id": "d7c36f59",
   "metadata": {},
   "outputs": [
    {
     "data": {
      "text/plain": [
       "Price                  1.000000\n",
       "Year                   0.323911\n",
       "ConsumerRating        -0.107844\n",
       "ReliabilityRating     -0.175229\n",
       "ValueForMoneyRating   -0.253086\n",
       "ConsumerReviews       -0.305777\n",
       "Mileage               -0.346016\n",
       "Name: Price, dtype: float64"
      ]
     },
     "execution_count": 20,
     "metadata": {},
     "output_type": "execute_result"
    }
   ],
   "source": [
    "corr_matrix['Price'].sort_values(ascending=False)"
   ]
  }
 ],
 "metadata": {
  "kernelspec": {
   "display_name": "Python 3 (ipykernel)",
   "language": "python",
   "name": "python3"
  },
  "language_info": {
   "codemirror_mode": {
    "name": "ipython",
    "version": 3
   },
   "file_extension": ".py",
   "mimetype": "text/x-python",
   "name": "python",
   "nbconvert_exporter": "python",
   "pygments_lexer": "ipython3",
   "version": "3.9.12"
  }
 },
 "nbformat": 4,
 "nbformat_minor": 5
}
